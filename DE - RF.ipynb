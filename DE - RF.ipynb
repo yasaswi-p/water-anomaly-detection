{
 "cells": [
  {
   "cell_type": "code",
   "execution_count": 1,
   "id": "5e49d9f9",
   "metadata": {},
   "outputs": [],
   "source": [
    "import matplotlib.pyplot as plt\n",
    "import pandas as pd\n",
    "import numpy as np\n",
    "from scipy.optimize import differential_evolution"
   ]
  },
  {
   "cell_type": "code",
   "execution_count": 2,
   "id": "10be7125",
   "metadata": {},
   "outputs": [
    {
     "data": {
      "text/html": [
       "<div>\n",
       "<style scoped>\n",
       "    .dataframe tbody tr th:only-of-type {\n",
       "        vertical-align: middle;\n",
       "    }\n",
       "\n",
       "    .dataframe tbody tr th {\n",
       "        vertical-align: top;\n",
       "    }\n",
       "\n",
       "    .dataframe thead th {\n",
       "        text-align: right;\n",
       "    }\n",
       "</style>\n",
       "<table border=\"1\" class=\"dataframe\">\n",
       "  <thead>\n",
       "    <tr style=\"text-align: right;\">\n",
       "      <th></th>\n",
       "      <th>Time</th>\n",
       "      <th>Tp</th>\n",
       "      <th>pH</th>\n",
       "      <th>Cond</th>\n",
       "      <th>Turb</th>\n",
       "      <th>SAC</th>\n",
       "      <th>PFM</th>\n",
       "      <th>Event</th>\n",
       "    </tr>\n",
       "  </thead>\n",
       "  <tbody>\n",
       "    <tr>\n",
       "      <th>0</th>\n",
       "      <td>2017-07-01 00:00:00</td>\n",
       "      <td>6.94</td>\n",
       "      <td>8.60774</td>\n",
       "      <td>0.020954</td>\n",
       "      <td>0.125931</td>\n",
       "      <td>3.58683</td>\n",
       "      <td>43.7559</td>\n",
       "      <td>False</td>\n",
       "    </tr>\n",
       "    <tr>\n",
       "      <th>1</th>\n",
       "      <td>2017-07-01 00:01:00</td>\n",
       "      <td>6.93</td>\n",
       "      <td>8.60589</td>\n",
       "      <td>0.020965</td>\n",
       "      <td>0.127219</td>\n",
       "      <td>3.59025</td>\n",
       "      <td>43.4366</td>\n",
       "      <td>False</td>\n",
       "    </tr>\n",
       "    <tr>\n",
       "      <th>2</th>\n",
       "      <td>2017-07-01 00:02:00</td>\n",
       "      <td>6.94</td>\n",
       "      <td>8.60220</td>\n",
       "      <td>0.020968</td>\n",
       "      <td>0.126482</td>\n",
       "      <td>3.58318</td>\n",
       "      <td>43.5994</td>\n",
       "      <td>False</td>\n",
       "    </tr>\n",
       "    <tr>\n",
       "      <th>3</th>\n",
       "      <td>2017-07-01 00:03:00</td>\n",
       "      <td>6.94</td>\n",
       "      <td>8.60220</td>\n",
       "      <td>0.020972</td>\n",
       "      <td>0.126184</td>\n",
       "      <td>3.58769</td>\n",
       "      <td>43.3704</td>\n",
       "      <td>False</td>\n",
       "    </tr>\n",
       "    <tr>\n",
       "      <th>4</th>\n",
       "      <td>2017-07-01 00:04:00</td>\n",
       "      <td>6.94</td>\n",
       "      <td>8.60405</td>\n",
       "      <td>0.020973</td>\n",
       "      <td>0.127908</td>\n",
       "      <td>3.58287</td>\n",
       "      <td>43.1656</td>\n",
       "      <td>False</td>\n",
       "    </tr>\n",
       "  </tbody>\n",
       "</table>\n",
       "</div>"
      ],
      "text/plain": [
       "                  Time    Tp       pH      Cond      Turb      SAC      PFM  \\\n",
       "0  2017-07-01 00:00:00  6.94  8.60774  0.020954  0.125931  3.58683  43.7559   \n",
       "1  2017-07-01 00:01:00  6.93  8.60589  0.020965  0.127219  3.59025  43.4366   \n",
       "2  2017-07-01 00:02:00  6.94  8.60220  0.020968  0.126482  3.58318  43.5994   \n",
       "3  2017-07-01 00:03:00  6.94  8.60220  0.020972  0.126184  3.58769  43.3704   \n",
       "4  2017-07-01 00:04:00  6.94  8.60405  0.020973  0.127908  3.58287  43.1656   \n",
       "\n",
       "   Event  \n",
       "0  False  \n",
       "1  False  \n",
       "2  False  \n",
       "3  False  \n",
       "4  False  "
      ]
     },
     "execution_count": 2,
     "metadata": {},
     "output_type": "execute_result"
    }
   ],
   "source": [
    "org_df = pd.read_csv('waterDataTraining.csv')\n",
    "df = org_df.copy()\n",
    "# df.dropna(inplace = True)\n",
    "df.head()"
   ]
  },
  {
   "cell_type": "code",
   "execution_count": 3,
   "id": "b6b2b436",
   "metadata": {},
   "outputs": [
    {
     "data": {
      "text/plain": [
       "False    132268\n",
       "True        212\n",
       "Name: Event, dtype: int64"
      ]
     },
     "execution_count": 3,
     "metadata": {},
     "output_type": "execute_result"
    }
   ],
   "source": [
    "df['Event'].value_counts()"
   ]
  },
  {
   "cell_type": "code",
   "execution_count": 4,
   "id": "5dea4210",
   "metadata": {
    "scrolled": true
   },
   "outputs": [
    {
     "name": "stdout",
     "output_type": "stream",
     "text": [
      "<class 'pandas.core.frame.DataFrame'>\n",
      "RangeIndex: 132480 entries, 0 to 132479\n",
      "Data columns (total 8 columns):\n",
      " #   Column  Non-Null Count   Dtype  \n",
      "---  ------  --------------   -----  \n",
      " 0   Time    132480 non-null  object \n",
      " 1   Tp      132266 non-null  float64\n",
      " 2   pH      132272 non-null  float64\n",
      " 3   Cond    132276 non-null  float64\n",
      " 4   Turb    132275 non-null  float64\n",
      " 5   SAC     132280 non-null  float64\n",
      " 6   PFM     132269 non-null  float64\n",
      " 7   Event   132480 non-null  bool   \n",
      "dtypes: bool(1), float64(6), object(1)\n",
      "memory usage: 7.2+ MB\n"
     ]
    }
   ],
   "source": [
    "df.info()"
   ]
  },
  {
   "cell_type": "code",
   "execution_count": 5,
   "id": "962ba364",
   "metadata": {},
   "outputs": [],
   "source": [
    "# df['Tp_m_avg'] \t= df['Tp'].rolling(window = 30).mean()\n",
    "# df['pH_m_avg'] \t= df['pH'].rolling(window = 30).mean()\n",
    "# df['Turb_m_avg'] = df['Turb'].rolling(window = 30).mean()\n",
    "# df['SAC_m_avg'] \t= df['SAC'].rolling(window = 30).mean()\n",
    "# df['PFM_m_avg'] \t= df['PFM'].rolling(window = 30).mean()\n",
    "# df['Cond_m_avg'] = df['Cond'].rolling(window = 30).mean()"
   ]
  },
  {
   "cell_type": "code",
   "execution_count": 6,
   "id": "c54f8d39",
   "metadata": {},
   "outputs": [],
   "source": [
    "# df.dropna(inplace = True)\n",
    "# df = org_df.copy()\n",
    "# df2 = df.copy()\n",
    "# df2['Tp'] = df['Tp'].fillna(df['Tp'].median())\n",
    "# df2['pH'] = df['pH'].fillna(df['pH'].median())\n",
    "# df2['Cond'] = df['Cond'].fillna(df['Cond'].median())\n",
    "# df = df.fillna(df.median(numeric_only = True))\n",
    "# df['Tp_m_avg'] \t= df['Tp'].rolling(window = 30).median()\n",
    "# df['pH_m_avg'] \t= df['pH'].rolling(window = 30).median()\n",
    "# df['Turb_m_avg'] = df['Turb'].rolling(window = 30).median()\n",
    "# df['SAC_m_avg'] \t= df['SAC'].rolling(window = 30).median()\n",
    "# df['PFM_m_avg'] \t= df['PFM'].rolling(window = 30).median()\n",
    "# df['Cond_m_avg'] = df['Cond'].rolling(window = 30).median()\n",
    "\n",
    "\n",
    "# df['Tp_m_min'] \t= df['Tp'].rolling(window = 30).min()\n",
    "# df['pH_m_min'] \t= df['pH'].rolling(window = 30).min()\n",
    "# df['Turb_m_min'] = df['Turb'].rolling(window = 30).min()\n",
    "# df['SAC_m_min'] \t= df['SAC'].rolling(window = 30).min()\n",
    "# df['PFM_m_min'] \t= df['PFM'].rolling(window = 30).min()\n",
    "# df['Cond_m_min'] = df['Cond'].rolling(window = 30).min()\n",
    "\n",
    "\n",
    "# df['Tp_m_mam'] \t= df['Tp'].rolling(window = 30).max()\n",
    "# df['pH_m_mam'] \t= df['pH'].rolling(window = 30).max()\n",
    "# df['Turb_m_mam'] = df['Turb'].rolling(window = 30).max()\n",
    "# df['SAC_m_mam'] \t= df['SAC'].rolling(window = 30).max()\n",
    "# df['PFM_m_mam'] \t= df['PFM'].rolling(window = 30).max()\n",
    "# df['Cond_m_mam'] = df['Cond'].rolling(window = 30).max()\n",
    "df.dropna(inplace = True)"
   ]
  },
  {
   "cell_type": "code",
   "execution_count": 7,
   "id": "f7cfc75b",
   "metadata": {},
   "outputs": [],
   "source": [
    "X = df.drop(['Time', 'Event'], axis = 1)\n",
    "y = df['Event']"
   ]
  },
  {
   "cell_type": "code",
   "execution_count": 8,
   "id": "72cfc618",
   "metadata": {},
   "outputs": [
    {
     "name": "stdout",
     "output_type": "stream",
     "text": [
      " X_train dataset:  (92548, 6)\n",
      " y_train dataset:  (92548,)\n",
      " X_test dataset:  (39664, 6)\n",
      " y_test dataset:  (39664,)\n"
     ]
    }
   ],
   "source": [
    "from imblearn.over_sampling import SMOTE\n",
    "\n",
    "from sklearn.model_selection import train_test_split\n",
    "\n",
    "X_train, X_test, y_train, y_test = train_test_split(X, y, test_size=0.3, random_state=0)\n",
    "\n",
    "print(\" X_train dataset: \", X_train.shape)\n",
    "print(\" y_train dataset: \", y_train.shape)\n",
    "print(\" X_test dataset: \", X_test.shape)\n",
    "print(\" y_test dataset: \", y_test.shape)"
   ]
  },
  {
   "cell_type": "code",
   "execution_count": 9,
   "id": "96a2c15e",
   "metadata": {
    "scrolled": true
   },
   "outputs": [],
   "source": [
    "sm = SMOTE(random_state=2)\n",
    "X_train_res, y_train_res = sm.fit_resample(X_train, y_train.ravel())"
   ]
  },
  {
   "cell_type": "code",
   "execution_count": 10,
   "id": "7e938c4b",
   "metadata": {},
   "outputs": [],
   "source": [
    "from sklearn.linear_model import LogisticRegression\n",
    "from sklearn.metrics import confusion_matrix\n",
    "from sklearn.ensemble import RandomForestClassifier"
   ]
  },
  {
   "cell_type": "code",
   "execution_count": 11,
   "id": "0af40067",
   "metadata": {},
   "outputs": [],
   "source": [
    "from sklearn.metrics import f1_score\n",
    "\n",
    "def get_model_f1(x):\n",
    "    model = RandomForestClassifier(n_estimators = int(x[0]), random_state = 123)\n",
    "    model.fit(X_train_res, y_train_res)\n",
    "    y_pred = model.predict(X_test)\n",
    "    tn, fp, fn, tp = confusion_matrix(y_test, y_pred).ravel()\n",
    "    recall = tp / (tp + fn)\n",
    "    precision = tp / (tp + fp)\n",
    "    f1 = 2 * (precision * recall) / (precision + recall)\n",
    "    print(f\"In Func, 1-f1:{1- f1_score(y_test, y_pred)}, f1:{f1}, c: {x[0]}\")\n",
    "    return 1-f1\n",
    "    # DE tries to minimize the objective function. I couldn't find a way to change it to be able to maximize the obj func.\n",
    "    # Hence, I'm returning 1-f1 score so that it minimises 1-f1 -> same as maximising f1"
   ]
  },
  {
   "cell_type": "code",
   "execution_count": 12,
   "id": "a1e8d7fa",
   "metadata": {},
   "outputs": [
    {
     "name": "stdout",
     "output_type": "stream",
     "text": [
      "In Func, 1-f1:0.11666666666666659, f1:0.8833333333333334, c: 999.9626228490902\n",
      "In Func, 1-f1:0.1074380165289257, f1:0.8925619834710743, c: 191.93035144264587\n",
      "In Func, 1-f1:0.11666666666666659, f1:0.8833333333333334, c: 322.14050616187507\n",
      "In Func, 1-f1:0.11666666666666659, f1:0.8833333333333334, c: 830.3156134667139\n",
      "In Func, 1-f1:0.11666666666666659, f1:0.8833333333333334, c: 495.4589534241855\n",
      "In Func, 1-f1:0.1074380165289257, f1:0.8925619834710743, c: 155.04938434965936\n",
      "In Func, 1-f1:0.10924369747899165, f1:0.8907563025210083, c: 449.50393216883066\n",
      "In Func, 1-f1:0.11666666666666659, f1:0.8833333333333334, c: 719.9187681957112\n",
      "In Func, 1-f1:0.10924369747899165, f1:0.8907563025210083, c: 599.0690758403142\n",
      "In Func, 1-f1:0.11666666666666659, f1:0.8833333333333334, c: 736.5641466296141\n",
      "In Func, 1-f1:0.11666666666666659, f1:0.8833333333333334, c: 277.86688828144975\n",
      "In Func, 1-f1:0.11666666666666659, f1:0.8833333333333334, c: 247.12872350890632\n",
      "In Func, 1-f1:0.1074380165289257, f1:0.8925619834710743, c: 141.33320246409727\n",
      "In Func, 1-f1:0.11666666666666659, f1:0.8833333333333334, c: 868.0255726168557\n",
      "In Func, 1-f1:0.11666666666666659, f1:0.8833333333333334, c: 722.5750657550391\n",
      "In Func, 1-f1:0.11666666666666659, f1:0.8833333333333334, c: 737.5440648766612\n",
      "In Func, 1-f1:0.11666666666666659, f1:0.8833333333333334, c: 984.2478277318253\n",
      "In Func, 1-f1:0.11666666666666659, f1:0.8833333333333334, c: 474.41260115430447\n",
      "In Func, 1-f1:0.11666666666666659, f1:0.8833333333333334, c: 238.30982585330997\n",
      "In Func, 1-f1:0.11666666666666659, f1:0.8833333333333334, c: 627.74446170402\n",
      "In Func, 1-f1:0.11666666666666659, f1:0.8833333333333334, c: 242.40675726619207\n",
      "In Func, 1-f1:0.1074380165289257, f1:0.8925619834710743, c: 205.58488128305567\n",
      "In Func, 1-f1:0.11666666666666659, f1:0.8833333333333334, c: 327.96900449699024\n",
      "In Func, 1-f1:0.11666666666666659, f1:0.8833333333333334, c: 861.9130154993406\n",
      "In Func, 1-f1:0.11666666666666659, f1:0.8833333333333334, c: 372.77561231924017\n",
      "In Func, 1-f1:0.11666666666666659, f1:0.8833333333333334, c: 689.8481343486269\n",
      "In Func, 1-f1:0.11666666666666659, f1:0.8833333333333334, c: 404.35181699470513\n",
      "In Func, 1-f1:0.11666666666666659, f1:0.8833333333333334, c: 331.7001546517117\n",
      "In Func, 1-f1:0.11666666666666659, f1:0.8833333333333334, c: 541.2285418900723\n",
      "In Func, 1-f1:0.11666666666666659, f1:0.8833333333333334, c: 415.1172212314898\n",
      "In Func, 1-f1:0.11666666666666659, f1:0.8833333333333334, c: 801.4767238282373\n",
      "In Func, 1-f1:0.11666666666666659, f1:0.8833333333333334, c: 268.90506497139\n",
      "In Func, 1-f1:0.09999999999999998, f1:0.9, c: 437.9919289793362\n",
      "In Func, 1-f1:0.10924369747899165, f1:0.8907563025210083, c: 460.6132070696453\n",
      "In Func, 1-f1:0.11666666666666659, f1:0.8833333333333334, c: 282.1684190514737\n",
      "In Func, 1-f1:0.11666666666666659, f1:0.8833333333333334, c: 373.1144531670502\n",
      "In Func, 1-f1:0.11666666666666659, f1:0.8833333333333334, c: 395.8154663572627\n",
      "In Func, 1-f1:0.1074380165289257, f1:0.8925619834710743, c: 431.87377446120206\n",
      "In Func, 1-f1:0.11666666666666659, f1:0.8833333333333334, c: 572.3242284821936\n",
      "In Func, 1-f1:0.1074380165289257, f1:0.8925619834710743, c: 213.77048802837646\n",
      "In Func, 1-f1:0.11666666666666659, f1:0.8833333333333334, c: 417.02812776592356\n",
      "In Func, 1-f1:0.10924369747899165, f1:0.8907563025210083, c: 458.9557301927488\n",
      "In Func, 1-f1:0.1074380165289257, f1:0.8925619834710743, c: 220.78287651904782\n",
      "In Func, 1-f1:0.11666666666666659, f1:0.8833333333333334, c: 501.0878651010367\n",
      "In Func, 1-f1:0.11666666666666659, f1:0.8833333333333334, c: 672.123729156565\n",
      "In Func, 1-f1:0.11666666666666659, f1:0.8833333333333334, c: 894.0875712226211\n",
      "In Func, 1-f1:0.11666666666666659, f1:0.8833333333333334, c: 662.7291918342185\n",
      "In Func, 1-f1:0.1074380165289257, f1:0.8925619834710743, c: 207.78478925408916\n",
      "In Func, 1-f1:0.1074380165289257, f1:0.8925619834710743, c: 207.78478925408916\n",
      "In Func, 1-f1:0.11666666666666659, f1:0.8833333333333334, c: 661.0736450380247\n",
      "In Func, 1-f1:0.1074380165289257, f1:0.8925619834710743, c: 433.65350432514214\n",
      "In Func, 1-f1:0.09999999999999998, f1:0.9, c: 437.9919289793362\n",
      "In Func, 1-f1:0.10924369747899165, f1:0.8907563025210083, c: 604.8456862792806\n",
      "In Func, 1-f1:0.11666666666666659, f1:0.8833333333333334, c: 607.6902737378678\n",
      "In Func, 1-f1:0.11666666666666659, f1:0.8833333333333334, c: 616.9031268827836\n",
      "In Func, 1-f1:0.10924369747899165, f1:0.8907563025210083, c: 604.8456862792806\n",
      "In Func, 1-f1:0.11666666666666659, f1:0.8833333333333334, c: 399.7693939982762\n",
      "In Func, 1-f1:0.11666666666666659, f1:0.8833333333333334, c: 262.79429064899193\n",
      "In Func, 1-f1:0.10924369747899165, f1:0.8907563025210083, c: 446.0439132066333\n",
      "In Func, 1-f1:0.11666666666666659, f1:0.8833333333333334, c: 613.1895673096805\n",
      "In Func, 1-f1:0.13114754098360648, f1:0.8688524590163935, c: 107.07593511586975\n",
      "In Func, 1-f1:0.11666666666666659, f1:0.8833333333333334, c: 233.49127607950277\n",
      "In Func, 1-f1:0.11666666666666659, f1:0.8833333333333334, c: 633.5068278642958\n",
      "In Func, 1-f1:0.11666666666666659, f1:0.8833333333333334, c: 624.1953264564357\n",
      "In Func, 1-f1:0.1074380165289257, f1:0.8925619834710743, c: 433.1503873600057\n",
      "In Func, 1-f1:0.11666666666666659, f1:0.8833333333333334, c: 642.4925818791696\n",
      "In Func, 1-f1:0.11666666666666659, f1:0.8833333333333334, c: 666.850439465767\n",
      "In Func, 1-f1:0.1074380165289257, f1:0.8925619834710743, c: 427.47840619143426\n",
      "In Func, 1-f1:0.1074380165289257, f1:0.8925619834710743, c: 213.0495068454303\n",
      "In Func, 1-f1:0.1074380165289257, f1:0.8925619834710743, c: 209.13341849290538\n",
      "In Func, 1-f1:0.11666666666666659, f1:0.8833333333333334, c: 312.917063065077\n",
      "In Func, 1-f1:0.10924369747899165, f1:0.8907563025210083, c: 440.1783893536439\n",
      "In Func, 1-f1:0.11666666666666659, f1:0.8833333333333334, c: 285.88727570091675\n",
      "In Func, 1-f1:0.11666666666666659, f1:0.8833333333333334, c: 565.6932165730268\n",
      "In Func, 1-f1:0.11666666666666659, f1:0.8833333333333334, c: 590.0965822577556\n",
      "In Func, 1-f1:0.10924369747899165, f1:0.8907563025210083, c: 440.69509549354484\n",
      "In Func, 1-f1:0.11666666666666659, f1:0.8833333333333334, c: 595.9665726412228\n",
      "In Func, 1-f1:0.11666666666666659, f1:0.8833333333333334, c: 304.08802612997556\n",
      "In Func, 1-f1:0.11666666666666659, f1:0.8833333333333334, c: 322.58810136042194\n",
      "In Func, 1-f1:0.11666666666666659, f1:0.8833333333333334, c: 282.7204518316582\n",
      "In Func, 1-f1:0.10924369747899165, f1:0.8907563025210083, c: 441.10839487656693\n",
      "In Func, 1-f1:0.09999999999999998, f1:0.9, c: 434.8754630821054\n",
      "In Func, 1-f1:0.11666666666666659, f1:0.8833333333333334, c: 308.0722182347264\n",
      "In Func, 1-f1:0.11666666666666659, f1:0.8833333333333334, c: 562.0257299784636\n",
      "In Func, 1-f1:0.11666666666666659, f1:0.8833333333333334, c: 276.2040934259125\n",
      "In Func, 1-f1:0.11666666666666659, f1:0.8833333333333334, c: 312.245788076399\n",
      "In Func, 1-f1:0.11666666666666659, f1:0.8833333333333334, c: 284.2416950473854\n",
      "In Func, 1-f1:0.1074380165289257, f1:0.8925619834710743, c: 429.00648576631255\n",
      "In Func, 1-f1:0.11666666666666659, f1:0.8833333333333334, c: 576.1673145544621\n",
      "In Func, 1-f1:0.1074380165289257, f1:0.8925619834710743, c: 433.74283467838\n",
      "In Func, 1-f1:0.1074380165289257, f1:0.8925619834710743, c: 221.4519611803483\n",
      "In Func, 1-f1:0.11666666666666659, f1:0.8833333333333334, c: 416.5754012559423\n",
      "In Func, 1-f1:0.10924369747899165, f1:0.8907563025210083, c: 441.9151371645697\n",
      "In Func, 1-f1:0.11666666666666659, f1:0.8833333333333334, c: 705.8656904439906\n",
      "In Func, 1-f1:0.1074380165289257, f1:0.8925619834710743, c: 203.61282679106466\n",
      "In Func, 1-f1:0.11666666666666659, f1:0.8833333333333334, c: 225.02935451445853\n",
      "In Func, 1-f1:0.11666666666666659, f1:0.8833333333333334, c: 646.9317048413918\n",
      "In Func, 1-f1:0.11666666666666659, f1:0.8833333333333334, c: 655.8658118884953\n",
      "In Func, 1-f1:0.10924369747899165, f1:0.8907563025210083, c: 452.91363145820515\n",
      "In Func, 1-f1:0.11666666666666659, f1:0.8833333333333334, c: 656.9381194527209\n",
      "In Func, 1-f1:0.10924369747899165, f1:0.8907563025210083, c: 449.5315505145032\n",
      "In Func, 1-f1:0.1074380165289257, f1:0.8925619834710743, c: 432.3298766204092\n",
      "In Func, 1-f1:0.10924369747899165, f1:0.8907563025210083, c: 446.1256790537331\n",
      "In Func, 1-f1:0.10924369747899165, f1:0.8907563025210083, c: 444.9010745157949\n",
      "In Func, 1-f1:0.11666666666666659, f1:0.8833333333333334, c: 285.53924306353923\n"
     ]
    },
    {
     "name": "stdout",
     "output_type": "stream",
     "text": [
      "In Func, 1-f1:0.1074380165289257, f1:0.8925619834710743, c: 430.65159232616116\n",
      "In Func, 1-f1:0.10924369747899165, f1:0.8907563025210083, c: 450.5631268747219\n",
      "In Func, 1-f1:0.11666666666666659, f1:0.8833333333333334, c: 606.2274929663577\n",
      "In Func, 1-f1:0.11666666666666659, f1:0.8833333333333334, c: 273.9018847680729\n",
      "In Func, 1-f1:0.11666666666666659, f1:0.8833333333333334, c: 272.9680451681536\n",
      "In Func, 1-f1:0.09999999999999998, f1:0.9, c: 437.9919289793362\n",
      "In Func, 1-f1:0.09999999999999998, f1:0.9, c: 437.9919289893362\n",
      "[437.99192898] 0.09999999999999998\n"
     ]
    }
   ],
   "source": [
    "# bounds = [(0, 1e-1)]\n",
    "bounds = [(100, 1000)]\n",
    "result = differential_evolution(func = get_model_f1, bounds = bounds, maxiter = 10, popsize = 10)\n",
    "print(result.x, result.fun)"
   ]
  },
  {
   "cell_type": "code",
   "execution_count": 15,
   "id": "5693db51",
   "metadata": {},
   "outputs": [
    {
     "data": {
      "text/plain": [
       "(0.9996974586526826, 0.8571428571428571, 0.9473684210526315, 0.9)"
      ]
     },
     "execution_count": 15,
     "metadata": {},
     "output_type": "execute_result"
    }
   ],
   "source": [
    "# model = RandomForestClassifier(n_estimators = 437, random_state = 123)\n",
    "# model.fit(X_train_res, y_train_res)\n",
    "# y_pred = model.predict(X_test)\n",
    "# # tn, fp, fn, tp = confusion_matrix(y_test, y_pred).ravel()\n",
    "# # recall = tp / (tp + fn)\n",
    "# # precision = tp / (tp + fp)\n",
    "# # f1 = 2 * (precision * recall) / (precision + recall)\n",
    "get_metrics(y_pred, y_test)"
   ]
  },
  {
   "cell_type": "code",
   "execution_count": 14,
   "id": "8688ba09",
   "metadata": {},
   "outputs": [],
   "source": [
    "from sklearn.metrics import confusion_matrix\n",
    "def get_metrics(Y_true, y_pred):\n",
    "    tn, fp, fn, tp = confusion_matrix(Y_true, y_pred).ravel()\n",
    "    acc = (tp + tn) / (tp + fp + tn + fn)\n",
    "    recall = tp / (tp + fn)\n",
    "    precision = tp / (tp + fp)\n",
    "    f1 = 2 * (precision * recall) / (precision + recall)\n",
    "    return acc, precision, recall, f1"
   ]
  },
  {
   "cell_type": "code",
   "execution_count": null,
   "id": "cea807d2",
   "metadata": {},
   "outputs": [],
   "source": []
  },
  {
   "cell_type": "code",
   "execution_count": null,
   "id": "90bbde7a",
   "metadata": {},
   "outputs": [],
   "source": []
  }
 ],
 "metadata": {
  "kernelspec": {
   "display_name": "Python 3",
   "language": "python",
   "name": "python3"
  },
  "language_info": {
   "codemirror_mode": {
    "name": "ipython",
    "version": 3
   },
   "file_extension": ".py",
   "mimetype": "text/x-python",
   "name": "python",
   "nbconvert_exporter": "python",
   "pygments_lexer": "ipython3",
   "version": "3.8.8"
  }
 },
 "nbformat": 4,
 "nbformat_minor": 5
}
